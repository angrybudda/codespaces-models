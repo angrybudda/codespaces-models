{
 "cells": [
  {
   "cell_type": "markdown",
   "metadata": {},
   "source": [
    "# LangChain + GitHub Models + Azure OpenAI\n",
    "\n",
    "LangChain is a modular framework designed to streamline the development and integration of applications utilizing large language models (LLMs) by providing tools for effective prompt engineering, data handling, and complex workflows.\n",
    "\n",
    "LangChain supports a number of model providers including Azure OpenAI and Cohere. Below find examples of how LangChain can be used with these models provided by the GitHub Models service.\n",
    "\n",
    "\n",
    "## 1. Install dependencies"
   ]
  },
  {
   "cell_type": "code",
   "execution_count": 2,
   "metadata": {},
   "outputs": [
    {
     "name": "stdout",
     "output_type": "stream",
     "text": [
      "Requirement already satisfied: langchain-openai in /usr/local/python/3.11.9/lib/python3.11/site-packages (0.1.23)\n",
      "Requirement already satisfied: langchain-core<0.3.0,>=0.2.35 in /usr/local/python/3.11.9/lib/python3.11/site-packages (from langchain-openai) (0.2.38)\n",
      "Requirement already satisfied: openai<2.0.0,>=1.40.0 in /usr/local/python/3.11.9/lib/python3.11/site-packages (from langchain-openai) (1.43.0)\n",
      "Requirement already satisfied: tiktoken<1,>=0.7 in /usr/local/python/3.11.9/lib/python3.11/site-packages (from langchain-openai) (0.7.0)\n",
      "Requirement already satisfied: PyYAML>=5.3 in /usr/local/python/3.11.9/lib/python3.11/site-packages (from langchain-core<0.3.0,>=0.2.35->langchain-openai) (6.0.2)\n",
      "Requirement already satisfied: jsonpatch<2.0,>=1.33 in /usr/local/python/3.11.9/lib/python3.11/site-packages (from langchain-core<0.3.0,>=0.2.35->langchain-openai) (1.33)\n",
      "Requirement already satisfied: langsmith<0.2.0,>=0.1.75 in /usr/local/python/3.11.9/lib/python3.11/site-packages (from langchain-core<0.3.0,>=0.2.35->langchain-openai) (0.1.111)\n",
      "Requirement already satisfied: packaging<25,>=23.2 in /usr/local/python/3.11.9/lib/python3.11/site-packages (from langchain-core<0.3.0,>=0.2.35->langchain-openai) (24.1)\n",
      "Requirement already satisfied: pydantic<3,>=1 in /usr/local/python/3.11.9/lib/python3.11/site-packages (from langchain-core<0.3.0,>=0.2.35->langchain-openai) (2.8.2)\n",
      "Requirement already satisfied: tenacity!=8.4.0,<9.0.0,>=8.1.0 in /usr/local/python/3.11.9/lib/python3.11/site-packages (from langchain-core<0.3.0,>=0.2.35->langchain-openai) (8.5.0)\n",
      "Requirement already satisfied: typing-extensions>=4.7 in /usr/local/python/3.11.9/lib/python3.11/site-packages (from langchain-core<0.3.0,>=0.2.35->langchain-openai) (4.12.2)\n",
      "Requirement already satisfied: anyio<5,>=3.5.0 in /usr/local/python/3.11.9/lib/python3.11/site-packages (from openai<2.0.0,>=1.40.0->langchain-openai) (4.4.0)\n",
      "Requirement already satisfied: distro<2,>=1.7.0 in /usr/local/python/3.11.9/lib/python3.11/site-packages (from openai<2.0.0,>=1.40.0->langchain-openai) (1.9.0)\n",
      "Requirement already satisfied: httpx<1,>=0.23.0 in /usr/local/python/3.11.9/lib/python3.11/site-packages (from openai<2.0.0,>=1.40.0->langchain-openai) (0.27.2)\n",
      "Requirement already satisfied: jiter<1,>=0.4.0 in /usr/local/python/3.11.9/lib/python3.11/site-packages (from openai<2.0.0,>=1.40.0->langchain-openai) (0.5.0)\n",
      "Requirement already satisfied: sniffio in /usr/local/python/3.11.9/lib/python3.11/site-packages (from openai<2.0.0,>=1.40.0->langchain-openai) (1.3.1)\n",
      "Requirement already satisfied: tqdm>4 in /usr/local/python/3.11.9/lib/python3.11/site-packages (from openai<2.0.0,>=1.40.0->langchain-openai) (4.66.5)\n",
      "Requirement already satisfied: regex>=2022.1.18 in /usr/local/python/3.11.9/lib/python3.11/site-packages (from tiktoken<1,>=0.7->langchain-openai) (2024.7.24)\n",
      "Requirement already satisfied: requests>=2.26.0 in /usr/local/python/3.11.9/lib/python3.11/site-packages (from tiktoken<1,>=0.7->langchain-openai) (2.32.3)\n",
      "Requirement already satisfied: idna>=2.8 in /usr/local/python/3.11.9/lib/python3.11/site-packages (from anyio<5,>=3.5.0->openai<2.0.0,>=1.40.0->langchain-openai) (3.8)\n",
      "Requirement already satisfied: certifi in /usr/local/python/3.11.9/lib/python3.11/site-packages (from httpx<1,>=0.23.0->openai<2.0.0,>=1.40.0->langchain-openai) (2024.7.4)\n",
      "Requirement already satisfied: httpcore==1.* in /usr/local/python/3.11.9/lib/python3.11/site-packages (from httpx<1,>=0.23.0->openai<2.0.0,>=1.40.0->langchain-openai) (1.0.5)\n",
      "Requirement already satisfied: h11<0.15,>=0.13 in /usr/local/python/3.11.9/lib/python3.11/site-packages (from httpcore==1.*->httpx<1,>=0.23.0->openai<2.0.0,>=1.40.0->langchain-openai) (0.14.0)\n",
      "Requirement already satisfied: jsonpointer>=1.9 in /usr/local/python/3.11.9/lib/python3.11/site-packages (from jsonpatch<2.0,>=1.33->langchain-core<0.3.0,>=0.2.35->langchain-openai) (3.0.0)\n",
      "Requirement already satisfied: orjson<4.0.0,>=3.9.14 in /usr/local/python/3.11.9/lib/python3.11/site-packages (from langsmith<0.2.0,>=0.1.75->langchain-core<0.3.0,>=0.2.35->langchain-openai) (3.10.7)\n",
      "Requirement already satisfied: annotated-types>=0.4.0 in /usr/local/python/3.11.9/lib/python3.11/site-packages (from pydantic<3,>=1->langchain-core<0.3.0,>=0.2.35->langchain-openai) (0.7.0)\n",
      "Requirement already satisfied: pydantic-core==2.20.1 in /usr/local/python/3.11.9/lib/python3.11/site-packages (from pydantic<3,>=1->langchain-core<0.3.0,>=0.2.35->langchain-openai) (2.20.1)\n",
      "Requirement already satisfied: charset-normalizer<4,>=2 in /usr/local/python/3.11.9/lib/python3.11/site-packages (from requests>=2.26.0->tiktoken<1,>=0.7->langchain-openai) (3.3.2)\n",
      "Requirement already satisfied: urllib3<3,>=1.21.1 in /usr/local/python/3.11.9/lib/python3.11/site-packages (from requests>=2.26.0->tiktoken<1,>=0.7->langchain-openai) (2.2.2)\n",
      "Note: you may need to restart the kernel to use updated packages.\n",
      "Requirement already satisfied: langchain-community in /usr/local/python/3.11.9/lib/python3.11/site-packages (0.2.16)\n",
      "Requirement already satisfied: PyYAML>=5.3 in /usr/local/python/3.11.9/lib/python3.11/site-packages (from langchain-community) (6.0.2)\n",
      "Requirement already satisfied: SQLAlchemy<3,>=1.4 in /usr/local/python/3.11.9/lib/python3.11/site-packages (from langchain-community) (2.0.33)\n",
      "Requirement already satisfied: aiohttp<4.0.0,>=3.8.3 in /usr/local/python/3.11.9/lib/python3.11/site-packages (from langchain-community) (3.10.5)\n",
      "Requirement already satisfied: dataclasses-json<0.7,>=0.5.7 in /usr/local/python/3.11.9/lib/python3.11/site-packages (from langchain-community) (0.6.7)\n",
      "Requirement already satisfied: langchain<0.3.0,>=0.2.16 in /usr/local/python/3.11.9/lib/python3.11/site-packages (from langchain-community) (0.2.16)\n",
      "Requirement already satisfied: langchain-core<0.3.0,>=0.2.38 in /usr/local/python/3.11.9/lib/python3.11/site-packages (from langchain-community) (0.2.38)\n",
      "Requirement already satisfied: langsmith<0.2.0,>=0.1.0 in /usr/local/python/3.11.9/lib/python3.11/site-packages (from langchain-community) (0.1.111)\n",
      "Requirement already satisfied: numpy<2,>=1 in /usr/local/python/3.11.9/lib/python3.11/site-packages (from langchain-community) (1.26.4)\n",
      "Requirement already satisfied: requests<3,>=2 in /usr/local/python/3.11.9/lib/python3.11/site-packages (from langchain-community) (2.32.3)\n",
      "Requirement already satisfied: tenacity!=8.4.0,<9.0.0,>=8.1.0 in /usr/local/python/3.11.9/lib/python3.11/site-packages (from langchain-community) (8.5.0)\n",
      "Requirement already satisfied: aiohappyeyeballs>=2.3.0 in /usr/local/python/3.11.9/lib/python3.11/site-packages (from aiohttp<4.0.0,>=3.8.3->langchain-community) (2.4.0)\n",
      "Requirement already satisfied: aiosignal>=1.1.2 in /usr/local/python/3.11.9/lib/python3.11/site-packages (from aiohttp<4.0.0,>=3.8.3->langchain-community) (1.3.1)\n",
      "Requirement already satisfied: attrs>=17.3.0 in /usr/local/python/3.11.9/lib/python3.11/site-packages (from aiohttp<4.0.0,>=3.8.3->langchain-community) (24.2.0)\n",
      "Requirement already satisfied: frozenlist>=1.1.1 in /usr/local/python/3.11.9/lib/python3.11/site-packages (from aiohttp<4.0.0,>=3.8.3->langchain-community) (1.4.1)\n",
      "Requirement already satisfied: multidict<7.0,>=4.5 in /usr/local/python/3.11.9/lib/python3.11/site-packages (from aiohttp<4.0.0,>=3.8.3->langchain-community) (6.0.5)\n",
      "Requirement already satisfied: yarl<2.0,>=1.0 in /usr/local/python/3.11.9/lib/python3.11/site-packages (from aiohttp<4.0.0,>=3.8.3->langchain-community) (1.9.8)\n",
      "Requirement already satisfied: marshmallow<4.0.0,>=3.18.0 in /usr/local/python/3.11.9/lib/python3.11/site-packages (from dataclasses-json<0.7,>=0.5.7->langchain-community) (3.22.0)\n",
      "Requirement already satisfied: typing-inspect<1,>=0.4.0 in /usr/local/python/3.11.9/lib/python3.11/site-packages (from dataclasses-json<0.7,>=0.5.7->langchain-community) (0.9.0)\n",
      "Requirement already satisfied: langchain-text-splitters<0.3.0,>=0.2.0 in /usr/local/python/3.11.9/lib/python3.11/site-packages (from langchain<0.3.0,>=0.2.16->langchain-community) (0.2.4)\n",
      "Requirement already satisfied: pydantic<3,>=1 in /usr/local/python/3.11.9/lib/python3.11/site-packages (from langchain<0.3.0,>=0.2.16->langchain-community) (2.8.2)\n",
      "Requirement already satisfied: jsonpatch<2.0,>=1.33 in /usr/local/python/3.11.9/lib/python3.11/site-packages (from langchain-core<0.3.0,>=0.2.38->langchain-community) (1.33)\n",
      "Requirement already satisfied: packaging<25,>=23.2 in /usr/local/python/3.11.9/lib/python3.11/site-packages (from langchain-core<0.3.0,>=0.2.38->langchain-community) (24.1)\n",
      "Requirement already satisfied: typing-extensions>=4.7 in /usr/local/python/3.11.9/lib/python3.11/site-packages (from langchain-core<0.3.0,>=0.2.38->langchain-community) (4.12.2)\n",
      "Requirement already satisfied: httpx<1,>=0.23.0 in /usr/local/python/3.11.9/lib/python3.11/site-packages (from langsmith<0.2.0,>=0.1.0->langchain-community) (0.27.2)\n",
      "Requirement already satisfied: orjson<4.0.0,>=3.9.14 in /usr/local/python/3.11.9/lib/python3.11/site-packages (from langsmith<0.2.0,>=0.1.0->langchain-community) (3.10.7)\n",
      "Requirement already satisfied: charset-normalizer<4,>=2 in /usr/local/python/3.11.9/lib/python3.11/site-packages (from requests<3,>=2->langchain-community) (3.3.2)\n",
      "Requirement already satisfied: idna<4,>=2.5 in /usr/local/python/3.11.9/lib/python3.11/site-packages (from requests<3,>=2->langchain-community) (3.8)\n",
      "Requirement already satisfied: urllib3<3,>=1.21.1 in /usr/local/python/3.11.9/lib/python3.11/site-packages (from requests<3,>=2->langchain-community) (2.2.2)\n",
      "Requirement already satisfied: certifi>=2017.4.17 in /usr/local/python/3.11.9/lib/python3.11/site-packages (from requests<3,>=2->langchain-community) (2024.7.4)\n",
      "Requirement already satisfied: greenlet!=0.4.17 in /usr/local/python/3.11.9/lib/python3.11/site-packages (from SQLAlchemy<3,>=1.4->langchain-community) (3.0.3)\n",
      "Requirement already satisfied: anyio in /usr/local/python/3.11.9/lib/python3.11/site-packages (from httpx<1,>=0.23.0->langsmith<0.2.0,>=0.1.0->langchain-community) (4.4.0)\n",
      "Requirement already satisfied: httpcore==1.* in /usr/local/python/3.11.9/lib/python3.11/site-packages (from httpx<1,>=0.23.0->langsmith<0.2.0,>=0.1.0->langchain-community) (1.0.5)\n",
      "Requirement already satisfied: sniffio in /usr/local/python/3.11.9/lib/python3.11/site-packages (from httpx<1,>=0.23.0->langsmith<0.2.0,>=0.1.0->langchain-community) (1.3.1)\n",
      "Requirement already satisfied: h11<0.15,>=0.13 in /usr/local/python/3.11.9/lib/python3.11/site-packages (from httpcore==1.*->httpx<1,>=0.23.0->langsmith<0.2.0,>=0.1.0->langchain-community) (0.14.0)\n",
      "Requirement already satisfied: jsonpointer>=1.9 in /usr/local/python/3.11.9/lib/python3.11/site-packages (from jsonpatch<2.0,>=1.33->langchain-core<0.3.0,>=0.2.38->langchain-community) (3.0.0)\n",
      "Requirement already satisfied: annotated-types>=0.4.0 in /usr/local/python/3.11.9/lib/python3.11/site-packages (from pydantic<3,>=1->langchain<0.3.0,>=0.2.16->langchain-community) (0.7.0)\n",
      "Requirement already satisfied: pydantic-core==2.20.1 in /usr/local/python/3.11.9/lib/python3.11/site-packages (from pydantic<3,>=1->langchain<0.3.0,>=0.2.16->langchain-community) (2.20.1)\n",
      "Requirement already satisfied: mypy-extensions>=0.3.0 in /usr/local/python/3.11.9/lib/python3.11/site-packages (from typing-inspect<1,>=0.4.0->dataclasses-json<0.7,>=0.5.7->langchain-community) (1.0.0)\n",
      "Note: you may need to restart the kernel to use updated packages.\n",
      "Requirement already satisfied: faiss-cpu in /usr/local/python/3.11.9/lib/python3.11/site-packages (1.8.0.post1)\n",
      "Requirement already satisfied: numpy<2.0,>=1.0 in /usr/local/python/3.11.9/lib/python3.11/site-packages (from faiss-cpu) (1.26.4)\n",
      "Requirement already satisfied: packaging in /usr/local/python/3.11.9/lib/python3.11/site-packages (from faiss-cpu) (24.1)\n",
      "Note: you may need to restart the kernel to use updated packages.\n"
     ]
    }
   ],
   "source": [
    "%pip install langchain-openai\n",
    "%pip install langchain-community\n",
    "%pip install faiss-cpu"
   ]
  },
  {
   "cell_type": "markdown",
   "metadata": {},
   "source": [
    "## 2. Constructing LangChain's ChatOpenAI class\n",
    "\n",
    "Setting up the OpenAI API key and base URL for LangChain is the same as for OpenAI's Python client. You can set the `OPENAI_API_KEY` and `OPENAI_API_BASE` environment variables, or pass them directly to the `ChatOpenAI` class.\n"
   ]
  },
  {
   "cell_type": "code",
   "execution_count": 3,
   "metadata": {},
   "outputs": [],
   "source": [
    "from langchain_openai import ChatOpenAI\n",
    "import dotenv\n",
    "import os\n",
    "\n",
    "dotenv.load_dotenv()\n",
    "\n",
    "if not os.getenv(\"GITHUB_TOKEN\"):\n",
    "    raise ValueError(\"GITHUB_TOKEN is not set\")\n",
    "\n",
    "os.environ[\"OPENAI_API_KEY\"] = os.getenv(\"GITHUB_TOKEN\")\n",
    "os.environ[\"OPENAI_BASE_URL\"] = \"https://models.inference.ai.azure.com/\"\n",
    "\n",
    "GPT_MODEL = \"gpt-4o-mini\"\n",
    "\n",
    "llm = ChatOpenAI(model=GPT_MODEL)"
   ]
  },
  {
   "cell_type": "code",
   "execution_count": 4,
   "metadata": {},
   "outputs": [],
   "source": [
    "from langchain_core.prompts import ChatPromptTemplate\n",
    "\n",
    "# Create prompt \n",
    "prompt = ChatPromptTemplate.from_messages([\n",
    "    (\"system\", \"You are a helpful assistant that loves cricket\"),\n",
    "    (\"user\", \"{usertext}\")\n",
    "])"
   ]
  },
  {
   "cell_type": "code",
   "execution_count": 5,
   "metadata": {},
   "outputs": [],
   "source": [
    "# Create chain with prompt and llm \n",
    "chain = prompt | llm"
   ]
  },
  {
   "cell_type": "markdown",
   "metadata": {},
   "source": [
    "Now you can use the ChatOpenAI class to interact with the OpenAI API. "
   ]
  },
  {
   "cell_type": "code",
   "execution_count": 7,
   "metadata": {},
   "outputs": [
    {
     "data": {
      "text/plain": [
       "AIMessage(content=\"I'm sorry, but I don't have information on events that occurred after my last update in October 2021. For the latest updates on the 2024 Cricket World Cup, I recommend checking official cricket websites or news sources.\", additional_kwargs={'refusal': None}, response_metadata={'token_usage': {'completion_tokens': 45, 'prompt_tokens': 28, 'total_tokens': 73}, 'model_name': 'gpt-4o-mini', 'system_fingerprint': 'fp_80a1bad4c7', 'finish_reason': 'stop', 'logprobs': None}, id='run-511bea75-8c8d-4678-bf78-e2b76b391ced-0', usage_metadata={'input_tokens': 28, 'output_tokens': 45, 'total_tokens': 73})"
      ]
     },
     "execution_count": 7,
     "metadata": {},
     "output_type": "execute_result"
    }
   ],
   "source": [
    "chain.invoke({\"usertext\": f\"Who won the 2024 cricket WC?\"})"
   ]
  },
  {
   "cell_type": "markdown",
   "metadata": {},
   "source": [
    "Looks like the model is not up to date with the latest contest. Let's help it out with some content from the wikipedia:"
   ]
  },
  {
   "cell_type": "code",
   "execution_count": 8,
   "metadata": {},
   "outputs": [
    {
     "name": "stderr",
     "output_type": "stream",
     "text": [
      "USER_AGENT environment variable not set, consider setting it to identify your requests.\n"
     ]
    },
    {
     "data": {
      "text/plain": [
       "12648"
      ]
     },
     "execution_count": 8,
     "metadata": {},
     "output_type": "execute_result"
    }
   ],
   "source": [
    "from langchain_community.document_loaders import WebBaseLoader\n",
    "\n",
    "os.environ[\"USER_AGENT\"] = \"Mozilla/5.0 (X11; Linux x86_64) AppleWebKit/537.36 (KHTML, like Gecko) Chrome/51.0.2704.103 Safari/537.36\"\n",
    "\n",
    "loader = WebBaseLoader(\"https://www.espncricinfo.com/series/icc-men-s-t20-world-cup-2024-1411166/india-vs-south-africa-final-1415755/match-report\")\n",
    "\n",
    "docs = loader.load()\n",
    "len(docs[0].page_content)"
   ]
  },
  {
   "cell_type": "code",
   "execution_count": 30,
   "metadata": {},
   "outputs": [
    {
     "data": {
      "text/plain": [
       "'T20 World Cup 2024, IND vs SA Final Match Report, June 29, 2024 - Bumrah and Hardik script stunning comeback to lead India to T20 World Cup gloryMatches (10)SCO vs AUS (1)RHF Trophy (4)T20 Blast (2)CPL 2024 (2)PAK vs BAN (1) Previous1st T20I\\xa0•\\xa0 EdinburghScotlandAustraliaToday1:00 PMMatch starts in  1  hr  47  minsScheduleVideosSeriesLive\\xa0•\\xa049th Match\\xa0•\\xa0RHF Trophy\\xa0•\\xa0 LeedsVP(28.4/50 ov) 115/2NDVipers chose to bat.ScheduleTableSeriesLive\\xa0•\\xa050th Match\\xa0•\\xa0RHF Trophy\\xa0•\\xa0 RadlettWS(23.5/50 ov) 84/6SUNRSunrisers chose to field.ScheduleTableSeriesLive\\xa0•\\xa051st Match\\xa0•\\xa0RHF Trophy\\xa0•\\xa0 SolihullSES(24.5/50 ov) 110/3CSSparks chose to field.ScheduleTableSeriesLive\\xa0•\\xa052nd Match\\xa0•\\xa0RHF Trophy\\xa0•\\xa0 SaleBLZ(25.5/50 ov) 108/3THDERThunder chose to field.ScheduleTableSeries2nd Quarter Final\\xa0•\\xa0T20 Blast\\xa0•\\xa0 T20\\xa0•\\xa0 HoveSussexLancashireToday6:00 PMMatch yet to beginScheduleTableVideosSeries7th Match\\xa0•\\xa0CPL 2024\\xa0•\\xa0 T20\\xa0•\\xa0 BasseterreSt Kitts and Nevis PatriotsGuyana Amazon WarriorsToday11:00 PMMatch yet to beginScheduleTableSeriesRESULT\\xa0•\\xa06th Match\\xa0•\\xa0CPL 2024\\xa0•\\xa0 T20\\xa0•\\xa0 North SoundABF142/7SLK(17/20 ov, T:143) 144/3Kings won by 7 wickets (with 18 balls remaining)ScheduleTableSeriesRESULT\\xa0•\\xa01st Quarter Final\\xa0•\\xa0T20 Blast\\xa0•\\xa0 T20\\xa0•\\xa0 The OvalDURH162/8SUR(18/20 ov, T:163) 164/5Surrey won by 5 wickets (with 12 balls remaining)ScheduleTableReportSeriesRESULT\\xa0•\\xa02nd TEST\\xa0•\\xa0 RawalpindiPAK274\\xa0&\\xa0172BAN(T:185) 262\\xa0&\\xa0185/4Bangladesh won by 6 wicketsScheduleReportSeries NextLive ScoresSeriesTeamsNewsFeaturesVideosStatsEdition INRESULTFinal, Bridgetown, June 29, 2024, ICC Men\\'s T20 World CupPrevNextIndia176/7South Africa(20 ov, T:177) 169/8India won by 7 runsCricinfo\\'s MVPHardik Pandya, IND104.88 ptsImpact ListPlayer Of The MatchVirat Kohli, IND76 (59)Player Of The SeriesJasprit Bumrah, IND15 wktsCricinfo\\'s MVPHardik Pandya, IND104.88 ptsImpact ListPlayer Of The MatchVirat Kohli, IND76 (59)Player Of The SeriesJasprit Bumrah, IND15 wktsCricinfo\\'s MVPHardik Pandya, IND104.88 ptsImpact List12SummaryScorecardMVPReportCommentaryStatsOversTableBlogNewsVideosPhotosReportBumrah and Hardik script stunning comeback to lead India to T20 World Cup glorySouth Africa needed 30 off 30 balls with six wickets in hand, to win their maiden World Cup title, and then India fought backAndrew Fidel Fernando29-Jun-20241:12Manjrekar: \\'No surprise to see Hardik flourish on the big stage\\'India 176 for 7 (Kohli 76, Axar 47, Maharaj 2-23, Nortje 2-26) vs South Africa 169 for 8 (Klaasen 52, Bumrah 2-18, Arshdeep 2-20, Hardik 3-20) by seven runs Suryakumar Yadav snatched a boundary catch for the ages, Jasprit Bumrah snuck in two electric final overs, and Hardik Pandya pilfered the two big wickets as India pulled off one of their great heists to win a World Cup, finally.With five overs to go, South Africa were rampant. Heinrich Klaasen, one of the great hitters in the game, threatening to throw off decades of painful big-match history for his team with a hail of sixes. He and David Miller had clubbed 38 runs off the two previous overs, and with six wickets in hand South Africa needed only a run-a-ball off the last 30 balls.RelatedRohit Sharma joins Kohli in retiring from T20Is after World Cup triumphStats - India first team to win the men\\'s T20 World Cup unbeatenMagic moments - Bumrah, Klaasen and SKY go flash, bam, alakazamKohli retires from T20 internationals after winning World Cup title\\'We fulfilled what the whole nation wanted\\' - India players react after winning T20 World Cup 2024Rohit Sharma was forced to go to the best bowler in the world, when he would have otherwise saved Bumrah for later overs. Bumrah didn\\'t quite break the partnership, the batters never daring to take him on. But he did break Klaasen and Miller\\'s stride. They scrambled only four runs off that over.But the most telling blow, came at the start of the 17th over. After the flow of the game was further slowed due to an apparent knee complaint for Rishabh Pant, Hardik bowled a wide line outside off and took the edge of Klaasen, Pant snaffling the chance gleefully.Still, Miller was there, though he couldn\\'t get a boundary away off the rest of that over.Then Bumrah came back, bowled several ripsnorters in the last over of yet another tournament he has dominated. With one of those magic balls, a wicked in-seamer, he burst through the defenses of the last recognised South Africa batter, Marco Jansen, and grazed leg stump.With Keshav Maharaj now in the middle, their batting line-up notably short, and 20 needed off 12 balls, South Africa were for the first time since the early overs of the chase in trouble. Arshdeep Singh delivered a nerveless 19th over, off which South Africa could muster only four.Rohit Sharma holds the T20 World Cup trophy aloft, and the celebrations begin•AFP/Getty ImagesThe dream-killing blow came next. With 16 needed off the final over, bowled by Hardik. Miller tried to lift the first ball, a wide full toss, over the straight boundary. But he didn\\'t connect perfectly, and Suryakumar, running full tilt along the rope, his feet only centimetres inside, caught the ball, popped it up as he briefly stepped over the boundary, then completed the running catch as he hopped back into the field, sparking wild jubilation in the stands, and ecstatic celebrations from the India players.South Africa batters No. 8, 9, and 10, did not manage to get Hardik away, aside from a single outside edge that flew for four.When Hardik India completed the seven-run win, the bowler sank to his knees in relief, his team-mates exulted, and the crowd, largely supporting India, flew into euphoria. Their team had become World Champions again, after 13 years.Bumrah\\'s spectacular finals showingOn a flat track in Barbados, Bumrah bowled two unplayable deliveries that brought him two wickets - both bowled. The first of these was the better one. It was one of the best in the tournament, and very arguably one of the best ever in finals. Angled in to Reeza Hendricks, it pitched and seamed away to hit the top of off, beating the batter\\'s outside edge.Jasprit Bumrah sent back Marco Jansen in his final over•ICC/Getty ImagesHe conceded five runs in that first over, eight runs in the next (one of only two boundaries off his bowling came here - a not fully-controlled steer through deep third).But those last two overs went some distance to defining this match. Four runs off the 16th over, after the 15th had been clubbed for 24 runs. Two runs off the 17th. His figures were 2 for 18.Arshdeep plays his roleArshdeep Singh was almost as outstanding, returning 2 for 20. His two powerplay overs cost only eight, and brought the important wicket of Aiden Markram, who edged him behind. In the middle overs, he dismissed Quinton de Kock, who was looking to raise the tempo after he had overseen the recover after two early blows.And then that fantastic 19th over, in which he bowled two balls to Miller but conceded only three off them, otherwise keeping Maharaj on strike.This, after India\\'s spinners had leaked 106 off their nine collective overs.Klaasen makes a six-filled chargeOne of the best hits of the tournament was Klaasen crashing a wide, Kuldeep Yadav googly way over the cover boundary for six, with minimal foot movement. That was his third six (he\\'d banged Hardik and Ravindra Jadeja over the rope earlier).But it was against Axar Patel that he really thumped South Africa into the ascendancy. First ball of the 15th over, he bullied down the ground off the back foot for four. Axar bowled two wides in fear. Then later, two massive hits down the ground - one of which pounded the roof of the stadium, then a four through wide long-off for good measure.Heinrich Klaasen took on the bowling in the middle overs•Getty ImagesHe completed his fifty off 23 balls, the fastest ever in a T20 World Cup final. After he was dismissed, South Africa could not manage a single intentional boundary, the only four coming off Kagiso Rabada\\'s outside edge.Kohli drops anchorThe headlines will say Virat Kohli top scored with 76 off 59, but there were times when this knock was laboured.Between the fourth and 18th over, Kohli faced 35 balls in which he scored 29 and hit no boundaries. When he got to fifty, he had used up 48 deliveries, and didn\\'t raise his bat, having batted for most of that time in ODI middle-overs mode. There was an obvious critique to make here: was this an innings so unambitious, it was actually doing India harm?But the counter-argument is strong. Kohli had been 22 off 16 when the third wicket (Suryakumar Yadav) went down, in the fifth over. And the security he gave at one end, allowed Axar (pushed up the order No. 5) and Shivam Dube to prosper with their big-hitting.The boundaries returned for Virat Kohli after he got to his fifty•Getty ImagesHis stands with those batters reaped 72 off 54 (Axar hit 47 off 31) and 57 off 33 (Dube hit 22 off 13), and formed the heft of India\\'s innings. Their 176 for 7 was the most any team has scored in a World Cup final.Did South Africa choke?For 35 overs of this game, you could not have possibly arrived at that conclusion. They were pumped up in the early overs, when Keshav Maharaj struck twice, and Rabada removed Suryakumar - India\\'s most-dangerous batter. They held their catches and were excellent in the outfield.They overcame losing early wickets nicely too. But at one point, they needed 26 off 24 balls, had six wickets in hand, and only one over of Bumrah left to face. They tried to target Hardik, which was the smart play in that situation, but lost both their key batters to him.There are simpler explanations too: India were battle-hardened and skilful; South Africa\\'s batting line-up was short.Suryakumar YadavJasprit BumrahHardik PandyaHeinrich KlaasenDavid MillerArshdeep SinghIndiaSouth AfricaIndia vs South AfricaICC Men\\'s T20 World CupAndrew Fidel Fernando is a senior writer at ESPNcricinfo. @afidelfLanguageEnglishWin ProbabilityIND\\xa0100%INDSA100%50%100%IND InningsSA InningsOver 20\\xa0•\\xa0SA 169/8David Miller c Yadav b Pandya 21 (17b 1x4 1x6 37m) SR: 123.52WKagiso Rabada c Yadav b Pandya 4 (3b 1x4 0x6 5m) SR: 133.33WIndia won by 7 runsPowered by Smart StatsMatch CoverageAll Match NewsT20 World Cup 2024: New York, Tarouba pitches rated \\'unsatisfactory\\' by ICCThe pitch for the India vs Pakistan game, where India won by six runs after scoring just 119, has been rated \"satisfactory\"Kohli applauds Bumrah for bringing India back into games \\'again and again and again\\'\"What we saw on the streets tonight is something I\\'m never going to forget in my life,\" says Kohli after open-top bus parade in MumbaiEcstasy and heartbreak: the aftermath of the World Cup final in picturesIt\\'s all over but the feelings still lingerHardik Pandya becomes first Indian to be ranked No. 1 T20I allrounderJasprit Bumrah, the Player of the Series in the T20 World Cup, rose 12 places to No. 12 among bowlersT20 world champions finally leave Barbados for New DelhiThe chartered flight \"AIC24WC\" (Air India Champions 24 World Cup) has been organised by the BCCIInstant answers to T20 questionsAsk a questionVideosAll Match Videos1:57Rohit can get the best out of individuals, pleased with Kohli\\'s character - Morkel0:53Markram: \\'For the time being it just hurts a lot\\'8:43Rohit Sharma: \\'This has to be my greatest achievement\\'South Africa InningsPLAYER NAMERBRR Hendricksbowled45Q de Kockcaught3931AK Markramcaught45T Stubbsbowled3121H Klaasencaught5227DA Millercaught2117M Jansenbowled24KA Maharajnot out27K Rabadacaught43A Nortjenot out11Extras(b 1, lb 4, nb 1, w 3)Total169(8 wkts; 20 ovs)PLAYER NAMEOMRWEconArshdeep Singh402025 JJ Bumrah401824.5 AR Patel4049112.25 Kuldeep Yadav4045011.25 HH Pandya302036.66 (1 nb)RA Jadeja1012012 WKTRUNSPLAYERS1st7Reeza HendricksQuinton de Kock2nd5Quinton de KockAiden Markram3rd58Quinton de KockTristan Stubbs4th36Quinton de KockHeinrich Klaasen5th45David MillerHeinrich Klaasen6th5David MillerMarco Jansen7th5Keshav MaharajDavid Miller8th7Keshav MaharajKagiso Rabada9th1Keshav MaharajAnrich Nortje<1 / 3>ICC Men\\'s T20 World CupSuper Eights, Group 1TEAMMWLPTNRRIND33062.017AFG3214-0.305AUS3122-0.331BAN3030-1.709Super Eights, Group 2TEAMMWLPTNRRSA33060.599ENG32141.992WI31220.963USA3030-3.906Group ATEAMMWLPTNRRIND43071.137USA42150.127PAK42240.294CAN4123-0.493IRE4031-1.293Group BTEAMMWLPTNRRAUS44082.791ENG42153.611SCOT42151.255NAM4132-2.585OMA4040-3.062Group CTEAMMWLPTNRRWI44083.257AFG43161.835NZ42240.415UGA4132-4.510PNG4040-1.268Group DTEAMMWLPTNRRSA44080.470BAN43160.616SL41230.863NED4132-1.358NEP4031-0.542Full TableTerms of Use|Privacy Policy|Interest-Based Ads|Addendum to the Global Privacy Policy|Feedback© 2024 ESPN Sports Media Ltd. All rights reserved'"
      ]
     },
     "execution_count": 30,
     "metadata": {},
     "output_type": "execute_result"
    }
   ],
   "source": [
    "docs[0].page_content\n"
   ]
  },
  {
   "cell_type": "markdown",
   "metadata": {},
   "source": [
    "Due to the limits of the free service, the content retrieved from Wikipedia is too large to be added to the context -- that is ok since we can use a vector store to index the content. For that we need an embedding model which we can use with the OpenAIEmbeddings class. Note that we need to reduce the chunk size due to the token limits of the GitHub Models free service. "
   ]
  },
  {
   "cell_type": "code",
   "execution_count": 9,
   "metadata": {},
   "outputs": [],
   "source": [
    "from langchain_openai import OpenAIEmbeddings\n",
    "\n",
    "EMBEDDINGS_MODEL = \"text-embedding-3-small\"\n",
    "\n",
    "# need to constrain the chunk_size to work within the limits of the GitHub Model service\n",
    "embeddings = OpenAIEmbeddings(model=EMBEDDINGS_MODEL,chunk_size=30)"
   ]
  },
  {
   "cell_type": "markdown",
   "metadata": {},
   "source": [
    "Now, we will use the [FAISS](https://github.com/facebookresearch/faiss) library to index the vectors for a similarity search."
   ]
  },
  {
   "cell_type": "code",
   "execution_count": 10,
   "metadata": {},
   "outputs": [],
   "source": [
    "from langchain_community.vectorstores import FAISS\n",
    "from langchain_text_splitters import RecursiveCharacterTextSplitter\n",
    "\n",
    "text_splitter = RecursiveCharacterTextSplitter()\n",
    "documents = text_splitter.split_documents(docs)\n",
    "vector = FAISS.from_documents(documents, embeddings)"
   ]
  },
  {
   "cell_type": "markdown",
   "metadata": {},
   "source": [
    "Next, we can create a document chain that will use some context and the user's question to provide an answer:"
   ]
  },
  {
   "cell_type": "code",
   "execution_count": 11,
   "metadata": {},
   "outputs": [],
   "source": [
    "from langchain.chains.combine_documents import create_stuff_documents_chain\n",
    "\n",
    "prompt = ChatPromptTemplate.from_template(\"\"\"You are a cricket geek who loves stats.\n",
    "Answer the following question based only on the provided context:\n",
    "\n",
    "<context>\n",
    "{context}\n",
    "</context>\n",
    "\n",
    "Question: {input}\"\"\")\n",
    "\n",
    "document_chain = create_stuff_documents_chain(llm, prompt)"
   ]
  },
  {
   "cell_type": "markdown",
   "metadata": {},
   "source": [
    "We could just provide the context directly to the chain like so:"
   ]
  },
  {
   "cell_type": "code",
   "execution_count": 12,
   "metadata": {},
   "outputs": [
    {
     "data": {
      "text/plain": [
       "'The provided context does not specify the winner of the 2024 T20 World Cup Finals between India and South Africa.'"
      ]
     },
     "execution_count": 12,
     "metadata": {},
     "output_type": "execute_result"
    }
   ],
   "source": [
    "from langchain_core.documents import Document\n",
    "\n",
    "document_chain.invoke({\n",
    "    \"input\": \"Who won 2024 T20 World Cup Finals?\",\n",
    "    \"context\": [Document(page_content=\"India vs South Africa finals of T20 World Cup 2024\")]\n",
    "})"
   ]
  },
  {
   "cell_type": "markdown",
   "metadata": {},
   "source": [
    "But we really want a retrieval chain that will retrieve the right documents from our vector index and then uses it as context in our prompt like so:"
   ]
  },
  {
   "cell_type": "code",
   "execution_count": 13,
   "metadata": {},
   "outputs": [],
   "source": [
    "from langchain.chains import create_retrieval_chain\n",
    "\n",
    "retriever = vector.as_retriever()\n",
    "retrieval_chain = create_retrieval_chain(retriever, document_chain)"
   ]
  },
  {
   "cell_type": "markdown",
   "metadata": {},
   "source": [
    "Let's ask this one who won the 2024 ESC:"
   ]
  },
  {
   "cell_type": "code",
   "execution_count": 14,
   "metadata": {},
   "outputs": [
    {
     "name": "stdout",
     "output_type": "stream",
     "text": [
      "India won the 2024 T20 World Cup Finals against South Africa by 7 runs.\n"
     ]
    }
   ],
   "source": [
    "response = retrieval_chain.invoke({\"input\": f\"Who won 2024 T20 World Cup Finals?\"})\n",
    "print(response[\"answer\"])\n"
   ]
  },
  {
   "cell_type": "markdown",
   "metadata": {},
   "source": [
    "And a few more increasingly detailed questions:"
   ]
  },
  {
   "cell_type": "code",
   "execution_count": 15,
   "metadata": {},
   "outputs": [
    {
     "name": "stdout",
     "output_type": "stream",
     "text": [
      "The man of the match in the T20 World Cup Finals was Virat Kohli, who scored 76 runs off 59 balls.\n"
     ]
    }
   ],
   "source": [
    "response = retrieval_chain.invoke({\"input\": \"Who was the man of the match in the T20 World Cup Finals?\"})\n",
    "print(response[\"answer\"])"
   ]
  },
  {
   "cell_type": "code",
   "execution_count": 16,
   "metadata": {},
   "outputs": [
    {
     "name": "stdout",
     "output_type": "stream",
     "text": [
      "The cricket final took place at the Kensington Oval in Barbados.\n"
     ]
    }
   ],
   "source": [
    "response = retrieval_chain.invoke({\"input\": \"which stadium the cricket final took place ?\"})\n",
    "print(response[\"answer\"])"
   ]
  },
  {
   "cell_type": "code",
   "execution_count": 17,
   "metadata": {},
   "outputs": [
    {
     "name": "stdout",
     "output_type": "stream",
     "text": [
      "The best bowling performance in T20 World Cup finals, based on the provided context, was by Jasprit Bumrah, who took 2 wickets for 18 runs in his four overs.\n"
     ]
    }
   ],
   "source": [
    "response = retrieval_chain.invoke({\"input\": \"Who had the best bowling performance in T20 World Cup finals?\"})\n",
    "print(response[\"answer\"])"
   ]
  },
  {
   "cell_type": "code",
   "execution_count": 18,
   "metadata": {},
   "outputs": [
    {
     "name": "stdout",
     "output_type": "stream",
     "text": [
      "The turning point in the T20 World Cup finals occurred in the 17th over when Hardik Pandya took the crucial wicket of Heinrich Klaasen, who was threatening to lead South Africa to victory. Klaasen had been in excellent form, having scored 52 runs, but his dismissal changed the momentum of the match. Following this, South Africa struggled to score runs, and India's bowlers, particularly Jasprit Bumrah and Arshdeep Singh, delivered tight overs that further put pressure on the South African batting lineup. This shift in the game's flow ultimately contributed to India's seven-run victory.\n"
     ]
    }
   ],
   "source": [
    "response = retrieval_chain.invoke({\"input\": \"What was the turning point in the T20 World Cup finals?\"})\n",
    "print(response[\"answer\"])"
   ]
  },
  {
   "cell_type": "code",
   "execution_count": 19,
   "metadata": {},
   "outputs": [
    {
     "name": "stdout",
     "output_type": "stream",
     "text": [
      "Here's the organized table based on the provided context:\n",
      "\n",
      "| Date of the Match | Teams Played          | Man of the Match | Scores of Both Teams             | Winning Team | Venue        |\n",
      "|-------------------|-----------------------|------------------|----------------------------------|--------------|--------------|\n",
      "| June 29, 2024     | India vs South Africa  | Virat Kohli      | India: 176/7 <br> South Africa: 169/8 | India        | Barbados     |\n"
     ]
    }
   ],
   "source": [
    "response = retrieval_chain.invoke({\"input\": \"Organize results into a table with Date of the Match, Teams played, Man of the Match, Scores of both teams, Winning Team and Venue\"})\n",
    "print(response[\"answer\"])"
   ]
  },
  {
   "cell_type": "code",
   "execution_count": null,
   "metadata": {},
   "outputs": [],
   "source": []
  }
 ],
 "metadata": {
  "kernelspec": {
   "display_name": "gh-cookbook",
   "language": "python",
   "name": "python3"
  },
  "language_info": {
   "codemirror_mode": {
    "name": "ipython",
    "version": 3
   },
   "file_extension": ".py",
   "mimetype": "text/x-python",
   "name": "python",
   "nbconvert_exporter": "python",
   "pygments_lexer": "ipython3",
   "version": "3.11.9"
  }
 },
 "nbformat": 4,
 "nbformat_minor": 2
}
