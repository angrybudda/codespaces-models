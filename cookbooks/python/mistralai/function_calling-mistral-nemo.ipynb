{
 "cells": [
  {
   "cell_type": "markdown",
   "id": "a9226af6-32fa-4c3c-966a-e54099fcd09d",
   "metadata": {},
   "source": [
    "# Function Calling\n",
    "\n",
    "Function calling allows Mistral models to connect to external tools. By integrating Mistral models with external tools such as user defined functions or APIs, users can easily build applications catering to specific use cases and practical problems. In this guide, for instance, we wrote two functions for tracking payment status and payment date. We can use these two tools to provide answers for payment-related queries.\n",
    "\n",
    "At a glance, there are four steps with function calling:\n",
    "\n",
    "- User: specify tools and query\n",
    "- Model: Generate function arguments if applicable\n",
    "- User: Execute function to obtain tool results\n",
    "- Model: Generate final answer\n",
    "\n",
    "In this guide, we will walk through a simple example to demonstrate how function calling works with Mistral models in these four steps.\n",
    "\n",
    "Before we get started, let’s assume we have a dataframe consisting of payment transactions. When users ask questions about this dataframe, they can use certain tools to answer questions about this data. This is just an example to emulate an external database that the LLM cannot directly access."
   ]
  },
  {
   "cell_type": "code",
   "execution_count": null,
   "id": "1b6a555d-75d1-4241-bee3-a4ffaab4ecd2",
   "metadata": {},
   "outputs": [],
   "source": [
    "%pip install pandas mistralai"
   ]
  },
  {
   "cell_type": "code",
   "execution_count": 1,
   "id": "8b4c0408-94a8-4c3f-b518-253b718f436e",
   "metadata": {},
   "outputs": [],
   "source": [
    "import pandas as pd\n",
    "import json\n",
    "import os, dotenv, mistralai\n",
    "\n",
    "dotenv.load_dotenv()\n",
    "\n",
    "assert \"GITHUB_TOKEN\" in os.environ, \"Please set the GITHUB_TOKEN environment variable.\"\n",
    "github_token = os.environ[\"GITHUB_TOKEN\"]\n",
    "\n",
    "# We can use some defaults for the other two variables\n",
    "endpoint = \"https://models.inference.ai.azure.com\"\n",
    "model_name = \"mistral-nemo\"\n",
    "\n",
    "\n",
    "# Assuming we have the following data\n",
    "data = {\n",
    "    'transaction_id': ['T1001', 'T1002', 'T1003', 'T1004', 'T1005', 'T1006'],\n",
    "    'customer_id': ['C001', 'C002', 'C003', 'C002', 'C001', 'C003'],\n",
    "    'payment_amount': [125.50, 89.99, 120.00, 54.30, 210.20, 120.00],\n",
    "    'payment_date': ['2021-10-05', '2021-10-06', '2021-10-07', '2021-10-05', '2021-10-08', '2021-10-08'],\n",
    "    'payment_status': ['Paid', 'Unpaid', 'Unpaid', 'Paid', 'Pending', 'Paid']\n",
    "\n",
    "}\n",
    "\n",
    "# Create DataFrame\n",
    "df = pd.DataFrame(data)"
   ]
  },
  {
   "cell_type": "code",
   "execution_count": 3,
   "id": "54c645f3",
   "metadata": {},
   "outputs": [
    {
     "data": {
      "text/html": [
       "<div>\n",
       "<style scoped>\n",
       "    .dataframe tbody tr th:only-of-type {\n",
       "        vertical-align: middle;\n",
       "    }\n",
       "\n",
       "    .dataframe tbody tr th {\n",
       "        vertical-align: top;\n",
       "    }\n",
       "\n",
       "    .dataframe thead th {\n",
       "        text-align: right;\n",
       "    }\n",
       "</style>\n",
       "<table border=\"1\" class=\"dataframe\">\n",
       "  <thead>\n",
       "    <tr style=\"text-align: right;\">\n",
       "      <th></th>\n",
       "      <th>transaction_id</th>\n",
       "      <th>customer_id</th>\n",
       "      <th>payment_amount</th>\n",
       "      <th>payment_date</th>\n",
       "      <th>payment_status</th>\n",
       "    </tr>\n",
       "  </thead>\n",
       "  <tbody>\n",
       "    <tr>\n",
       "      <th>0</th>\n",
       "      <td>T1001</td>\n",
       "      <td>C001</td>\n",
       "      <td>125.50</td>\n",
       "      <td>2021-10-05</td>\n",
       "      <td>Paid</td>\n",
       "    </tr>\n",
       "    <tr>\n",
       "      <th>1</th>\n",
       "      <td>T1002</td>\n",
       "      <td>C002</td>\n",
       "      <td>89.99</td>\n",
       "      <td>2021-10-06</td>\n",
       "      <td>Unpaid</td>\n",
       "    </tr>\n",
       "    <tr>\n",
       "      <th>2</th>\n",
       "      <td>T1003</td>\n",
       "      <td>C003</td>\n",
       "      <td>120.00</td>\n",
       "      <td>2021-10-07</td>\n",
       "      <td>Unpaid</td>\n",
       "    </tr>\n",
       "    <tr>\n",
       "      <th>3</th>\n",
       "      <td>T1004</td>\n",
       "      <td>C002</td>\n",
       "      <td>54.30</td>\n",
       "      <td>2021-10-05</td>\n",
       "      <td>Paid</td>\n",
       "    </tr>\n",
       "    <tr>\n",
       "      <th>4</th>\n",
       "      <td>T1005</td>\n",
       "      <td>C001</td>\n",
       "      <td>210.20</td>\n",
       "      <td>2021-10-08</td>\n",
       "      <td>Pending</td>\n",
       "    </tr>\n",
       "    <tr>\n",
       "      <th>5</th>\n",
       "      <td>T1006</td>\n",
       "      <td>C003</td>\n",
       "      <td>120.00</td>\n",
       "      <td>2021-10-08</td>\n",
       "      <td>Paid</td>\n",
       "    </tr>\n",
       "  </tbody>\n",
       "</table>\n",
       "</div>"
      ],
      "text/plain": [
       "  transaction_id customer_id  payment_amount payment_date payment_status\n",
       "0          T1001        C001          125.50   2021-10-05           Paid\n",
       "1          T1002        C002           89.99   2021-10-06         Unpaid\n",
       "2          T1003        C003          120.00   2021-10-07         Unpaid\n",
       "3          T1004        C002           54.30   2021-10-05           Paid\n",
       "4          T1005        C001          210.20   2021-10-08        Pending\n",
       "5          T1006        C003          120.00   2021-10-08           Paid"
      ]
     },
     "execution_count": 3,
     "metadata": {},
     "output_type": "execute_result"
    }
   ],
   "source": [
    "df"
   ]
  },
  {
   "cell_type": "markdown",
   "id": "4e0ef041-a23a-437a-b36a-58a1b69be5db",
   "metadata": {},
   "source": [
    "## Step 1. User: specify tools and query\n",
    "\n",
    "### Tools\n",
    "\n",
    "Users can define all the necessary tools for their use cases.\n",
    "\n",
    "- In many cases, we might have multiple tools at our disposal. For example, let’s consider we have two functions as our two tools: `retrieve_payment_status` and `retrieve_payment_date` to retrieve payment status and payment date given transaction ID."
   ]
  },
  {
   "cell_type": "code",
   "execution_count": 3,
   "id": "d9e153c1-6ff6-4878-a8c2-e02bac749210",
   "metadata": {},
   "outputs": [],
   "source": [
    "def retrieve_payment_status(df: pd.DataFrame, transaction_id: str) -> str:\n",
    "    if transaction_id in df.transaction_id.values: \n",
    "        return json.dumps({'status': df[df.transaction_id == transaction_id].payment_status.item()})\n",
    "    return json.dumps({'error': 'transaction id not found.'})\n",
    "\n",
    "def retrieve_payment_date(df: pd.DataFrame, transaction_id: str) -> str:\n",
    "    if transaction_id in df.transaction_id.values: \n",
    "        return json.dumps({'date': df[df.transaction_id == transaction_id].payment_date.item()})\n",
    "    return json.dumps({'error': 'transaction id not found.'})\n",
    "\n"
   ]
  },
  {
   "cell_type": "code",
   "execution_count": null,
   "id": "99ddb504",
   "metadata": {},
   "outputs": [
    {
     "data": {
      "text/plain": [
       "'{\"ticket_id\": \"7782500727\", \"transaction_id\": 10}'"
      ]
     },
     "metadata": {},
     "output_type": "display_data"
    }
   ],
   "source": [
    "import random\n",
    "def escalate(transaction_id):\n",
    "    return json.dumps({\"ticket_id\": str(random.randint(1000000000,9999999999)), \"transaction_id\": transaction_id})\n",
    "escalate(10)"
   ]
  },
  {
   "cell_type": "code",
   "execution_count": 77,
   "id": "27ba18b3",
   "metadata": {},
   "outputs": [
    {
     "data": {
      "text/plain": [
       "'{\"ticket_id\": \"12313123\", \"transaction_id\": \"T10002\", \"status\": \"IN PROGRESS\", \"eta\": \"2024-09-07\"}'"
      ]
     },
     "execution_count": 77,
     "metadata": {},
     "output_type": "execute_result"
    }
   ],
   "source": [
    "from datetime import timedelta, date\n",
    "end_date = date.today() + timedelta(days=2)\n",
    "def ticket_details(ticket_id, transaction_id):\n",
    "    return json.dumps({\"ticket_id\": ticket_id, \"transaction_id\": transaction_id, \"status\": \"IN PROGRESS\", \"eta\": end_date.strftime(\"%Y-%m-%d\")})\n",
    "\n",
    "ticket_details('12313123','T10002')"
   ]
  },
  {
   "cell_type": "markdown",
   "id": "5728a885-ec7c-4d21-b461-ebb5e29b0a1e",
   "metadata": {},
   "source": [
    "- In order for Mistral models to understand the functions, we need to outline the function specifications with a JSON schema. Specifically, we need to describe the type, function name, function description, function parameters, and the required parameter for the function. Since we have two functions here, let’s list two function specifications in a list."
   ]
  },
  {
   "cell_type": "code",
   "execution_count": 78,
   "id": "756006e4-ae7e-4023-89d5-7de970f2efe7",
   "metadata": {},
   "outputs": [],
   "source": [
    "tools = [\n",
    "    {\n",
    "        \"type\": \"function\",\n",
    "        \"function\": {\n",
    "            \"name\": \"retrieve_payment_status\",\n",
    "            \"description\": \"Retrieves the payment status of the given transaction\",\n",
    "            \"parameters\": {\n",
    "                \"type\": \"object\",\n",
    "                \"properties\": {\n",
    "                    \"transaction_id\": {\n",
    "                        \"type\": \"string\",\n",
    "                        \"description\": \"The transaction id.\",\n",
    "                    }\n",
    "                },\n",
    "                \"required\": [\"transaction_id\"],\n",
    "            },\n",
    "        },\n",
    "    },\n",
    "    {\n",
    "        \"type\": \"function\",\n",
    "        \"function\": {\n",
    "            \"name\": \"retrieve_payment_date\",\n",
    "            \"description\": \"Retrieves the payment status of the given transaction\",\n",
    "            \"parameters\": {\n",
    "                \"type\": \"object\",\n",
    "                \"properties\": {\n",
    "                    \"transaction_id\": {\n",
    "                        \"type\": \"string\",\n",
    "                        \"description\": \"The transaction id.\",\n",
    "                    }\n",
    "                },\n",
    "                \"required\": [\"transaction_id\"],\n",
    "            },\n",
    "        },\n",
    "    },\n",
    "    {\n",
    "        \"type\": \"function\",\n",
    "        \"function\": {\n",
    "            \"name\": \"escalate\",\n",
    "            \"description\": \"Escalate matter to next level and assigns a ticket id.\",\n",
    "            \"parameters\": {\n",
    "                \"type\": \"object\",\n",
    "                \"properties\": {\n",
    "                    \"transaction_id\": {\n",
    "                        \"type\": \"string\",\n",
    "                        \"description\": \"The transaction id.\",\n",
    "                    }\n",
    "                },\n",
    "                \"required\": [\"transaction_id\"],\n",
    "            },\n",
    "        }\n",
    "    },\n",
    "    {\n",
    "        \"type\": \"function\",\n",
    "        \"function\": {\n",
    "            \"name\": \"ticket_details\",\n",
    "            \"description\": \"Retrieve the ticket details\",\n",
    "            \"parameters\": {\n",
    "                \"type\": \"object\",\n",
    "                \"properties\": {\n",
    "                    \"ticket_id\": {\n",
    "                        \"type\": \"string\",\n",
    "                        \"description\": \"The ticket id.\",\n",
    "                    },\n",
    "                    \"transaction_id\": {\n",
    "                        \"type\": \"string\",\n",
    "                        \"description\": \"The transaction id of the ticket\"\n",
    "                    }\n",
    "                },\n",
    "                \"required\": [\"transaction_id\", \"ticket_id\"],\n",
    "            },\n",
    "        }\n",
    "    }\n",
    "]\n"
   ]
  },
  {
   "cell_type": "markdown",
   "id": "34144aca-5621-4190-9e7e-a05e4266b6d0",
   "metadata": {},
   "source": [
    "- Then we organize the two functions into a dictionary where keys represent the function name, and values are the function with the df defined. This allows us to call each function based on its function name."
   ]
  },
  {
   "cell_type": "code",
   "execution_count": 79,
   "id": "88d3fda1-72bb-4ee3-a80f-340716a22a01",
   "metadata": {},
   "outputs": [],
   "source": [
    "import functools\n",
    "\n",
    "names_to_functions = {\n",
    "  'retrieve_payment_status': functools.partial(retrieve_payment_status, df=df),\n",
    "  'retrieve_payment_date': functools.partial(retrieve_payment_date, df=df),\n",
    "  'escalate': functools.partial(escalate),\n",
    "  'ticket_details': functools.partial(ticket_details)\n",
    "}"
   ]
  },
  {
   "cell_type": "markdown",
   "id": "e0a05bf6-c244-4124-8196-f9a780fef95d",
   "metadata": {},
   "source": [
    "### User query\n",
    "\n",
    "Suppose a user asks the following question: “What’s the status of my transaction?” A standalone LLM would not be able to answer this question, as it needs to query the business logic backend to access the necessary data. But what if we have an exact tool we can use to answer this question? We could potentially provide an answer!"
   ]
  },
  {
   "cell_type": "code",
   "execution_count": 5,
   "id": "6777e7a6-f7e2-42bd-a141-5afe8fbd3c74",
   "metadata": {},
   "outputs": [],
   "source": [
    "from mistralai.models.chat_completion import ChatMessage\n",
    "\n",
    "messages = [\n",
    "    ChatMessage(role=\"user\", content=\"What is the status of my transaction buddy?\")\n",
    "]\n"
   ]
  },
  {
   "cell_type": "markdown",
   "id": "9d926683-3cc1-4de6-ad53-adefe8d5cc0b",
   "metadata": {},
   "source": [
    "## Step 2. Model: Generate function arguments \n",
    "\n",
    "How do Mistral models know about these functions and know which function to use? We provide both the user query and the tools specifications to Mistral models. The goal in this step is not for the Mistral model to run the function directly. It’s to 1) determine the appropriate function to use , 2) identify if there is any essential information missing for a function, and 3) generate necessary arguments for the chosen function."
   ]
  },
  {
   "cell_type": "code",
   "execution_count": 6,
   "id": "59493530-b310-447f-9f77-32d9013ffd30",
   "metadata": {},
   "outputs": [
    {
     "data": {
      "text/plain": [
       "{'id': 'd7586374a919405492fd5facac85b17e',\n",
       " 'object': 'chat.completion',\n",
       " 'created': 1725538532,\n",
       " 'model': 'mistral-nemo',\n",
       " 'choices': [{'index': 0,\n",
       "   'message': {'role': 'assistant',\n",
       "    'content': 'Sure, please provide me with the transaction id.',\n",
       "    'name': None,\n",
       "    'tool_calls': None,\n",
       "    'tool_call_id': None},\n",
       "   'finish_reason': <FinishReason.stop: 'stop'>}],\n",
       " 'usage': {'prompt_tokens': 159, 'total_tokens': 169, 'completion_tokens': 10}}"
      ]
     },
     "execution_count": 6,
     "metadata": {},
     "output_type": "execute_result"
    }
   ],
   "source": [
    "from mistralai.client import MistralClient\n",
    "\n",
    "model = \"mistral-nemo\"\n",
    "\n",
    "client = MistralClient(api_key=github_token, endpoint=endpoint)\n",
    "\n",
    "response = client.chat(\n",
    "    model=model,\n",
    "    messages=messages,\n",
    "    tools=tools,\n",
    "    tool_choice=\"auto\"\n",
    ")\n",
    "\n",
    "response.model_dump()"
   ]
  },
  {
   "cell_type": "code",
   "execution_count": 85,
   "id": "a7af5b4d-2128-4833-bd94-b4d924495783",
   "metadata": {},
   "outputs": [],
   "source": [
    "messages.append(response.choices[0].message)"
   ]
  },
  {
   "cell_type": "code",
   "execution_count": 86,
   "id": "4a31eeaa-6ef2-4af8-8fbf-e5648d12a263",
   "metadata": {},
   "outputs": [
    {
     "data": {
      "text/plain": [
       "[ChatMessage(role='user', content='What is the status of my transaction buddy?', name=None, tool_calls=None, tool_call_id=None),\n",
       " ChatMessage(role='assistant', content='Sure, please provide me with the transaction id.', name=None, tool_calls=None, tool_call_id=None),\n",
       " ChatMessage(role='user', content='T1005', name=None, tool_calls=None, tool_call_id=None),\n",
       " ChatMessage(role='assistant', content='', name=None, tool_calls=[ToolCall(id='6zFrRIsme', type=<ToolType.function: 'function'>, function=FunctionCall(name='retrieve_payment_status', arguments='{\"transaction_id\": \"T1005\"}'))], tool_call_id=None),\n",
       " ChatMessage(role='tool', content='{\"status\": \"Pending\"}', name='retrieve_payment_status', tool_calls=None, tool_call_id='6zFrRIsme'),\n",
       " ChatMessage(role='assistant', content='The status of your transaction with ID T1005 is currently \"Pending\".', name=None, tool_calls=None, tool_call_id=None),\n",
       " ChatMessage(role='user', content='When!!???? Are you sure?', name=None, tool_calls=None, tool_call_id=None),\n",
       " ChatMessage(role='assistant', content='Are you sure you want to know the date of the transaction?', name=None, tool_calls=None, tool_call_id=None),\n",
       " ChatMessage(role='user', content='Yes', name=None, tool_calls=None, tool_call_id=None),\n",
       " ChatMessage(role='assistant', content='', name=None, tool_calls=[ToolCall(id='ztH3kFT5a', type=<ToolType.function: 'function'>, function=FunctionCall(name='retrieve_payment_date', arguments='{\"transaction_id\": \"T1005\"}'))], tool_call_id=None),\n",
       " ChatMessage(role='tool', content='{\"date\": \"2021-10-08\"}', name='retrieve_payment_date', tool_calls=None, tool_call_id='ztH3kFT5a'),\n",
       " ChatMessage(role='assistant', content='The transaction with ID T1005 was made on October 8, 2021.', name=None, tool_calls=None, tool_call_id=None),\n",
       " ChatMessage(role='user', content='Why is it still pending?', name=None, tool_calls=None, tool_call_id=None),\n",
       " ChatMessage(role='assistant', content='The reason for the delay could be due to network congestion or manual review processes. Would you like me to escalate this issue?', name=None, tool_calls=None, tool_call_id=None),\n",
       " ChatMessage(role='user', content='Yes, Please..', name=None, tool_calls=None, tool_call_id=None),\n",
       " ChatMessage(role='assistant', content='', name=None, tool_calls=[ToolCall(id='gTjZs1daW', type=<ToolType.function: 'function'>, function=FunctionCall(name='escalate', arguments='{\"transaction_id\": \"T1005\"}'))], tool_call_id=None),\n",
       " ChatMessage(role='tool', content='{\"ticket_id\": \"1557462481\", \"transaction_id\": \"T1005\"}', name='escalate', tool_calls=None, tool_call_id='gTjZs1daW'),\n",
       " ChatMessage(role='assistant', content=\"Your issue has been escalated. Your ticket ID is 1557462481, and we'll keep you updated on any progress.\", name=None, tool_calls=None, tool_call_id=None),\n",
       " ChatMessage(role='user', content='Thank you, how long does it take to resolve?', name=None, tool_calls=None, tool_call_id=None),\n",
       " ChatMessage(role='assistant', content='It typically takes 1-2 business days to resolve these issues. Would you like a reminder when the issue is resolved?', name=None, tool_calls=None, tool_call_id=None),\n",
       " ChatMessage(role='user', content='Can you provide the eta for this ticket?', name=None, tool_calls=None, tool_call_id=None),\n",
       " ChatMessage(role='assistant', content='', name=None, tool_calls=[ToolCall(id='eA4fWFwz0', type=<ToolType.function: 'function'>, function=FunctionCall(name='ticket_details', arguments='{\"ticket_id\": \"1557462481\", \"transaction_id\": \"T1005\"}'))], tool_call_id=None)]"
      ]
     },
     "execution_count": 86,
     "metadata": {},
     "output_type": "execute_result"
    }
   ],
   "source": [
    "messages"
   ]
  },
  {
   "cell_type": "code",
   "execution_count": 9,
   "id": "3869a974",
   "metadata": {},
   "outputs": [
    {
     "data": {
      "text/plain": [
       "{'id': 'ce26ec58b9f84d90ad6e5840898f9888',\n",
       " 'object': 'chat.completion',\n",
       " 'created': 1725538545,\n",
       " 'model': 'mistral-nemo',\n",
       " 'choices': [{'index': 0,\n",
       "   'message': {'role': 'assistant',\n",
       "    'content': '',\n",
       "    'name': None,\n",
       "    'tool_calls': [{'id': '6zFrRIsme',\n",
       "      'type': <ToolType.function: 'function'>,\n",
       "      'function': {'name': 'retrieve_payment_status',\n",
       "       'arguments': '{\"transaction_id\": \"T1005\"}'}}],\n",
       "    'tool_call_id': None},\n",
       "   'finish_reason': <FinishReason.tool_calls: 'tool_calls'>}],\n",
       " 'usage': {'prompt_tokens': 177, 'total_tokens': 203, 'completion_tokens': 26}}"
      ]
     },
     "execution_count": 9,
     "metadata": {},
     "output_type": "execute_result"
    }
   ],
   "source": [
    "messages.append(ChatMessage(role=\"user\", content=\"T1005\"))\n",
    "response = client.chat(\n",
    "    model=model,\n",
    "    messages=messages,\n",
    "    tools=tools,\n",
    "    tool_choice=\"auto\"\n",
    ")\n",
    "\n",
    "response.model_dump()"
   ]
  },
  {
   "cell_type": "markdown",
   "id": "ffab43e6-3225-45b4-bc85-3689c2eee7c3",
   "metadata": {},
   "source": [
    "## Step 3. User: Execute function to obtain tool results\n",
    "\n",
    "How do we execute the function? Currently, it is the user’s responsibility to execute these functions and the function execution lies on the user side. In the future, we may introduce some helpful functions that can be executed server-side.\n",
    "\n",
    "Let’s extract some useful function information from model response including function_name and function_params. It’s clear here that our Mistral model has chosen to use the function `retrieve_payment_status` with the parameter `transaction_id` set to T1001."
   ]
  },
  {
   "cell_type": "code",
   "execution_count": 87,
   "id": "db259833-75b0-4538-a78e-8a1566326ec9",
   "metadata": {},
   "outputs": [
    {
     "name": "stdout",
     "output_type": "stream",
     "text": [
      "\n",
      "function_name:  ticket_details \n",
      "function_params:  {'ticket_id': '1557462481', 'transaction_id': 'T1005'}\n"
     ]
    }
   ],
   "source": [
    "import json\n",
    "tool_call = response.choices[0].message.tool_calls[0]\n",
    "function_name = tool_call.function.name\n",
    "function_params = json.loads(tool_call.function.arguments)\n",
    "print(\"\\nfunction_name: \", function_name, \"\\nfunction_params: \", function_params)"
   ]
  },
  {
   "cell_type": "code",
   "execution_count": 88,
   "id": "5eae109b-41c3-463d-98da-0e5499ea8a37",
   "metadata": {},
   "outputs": [
    {
     "data": {
      "text/plain": [
       "'{\"ticket_id\": \"1557462481\", \"transaction_id\": \"T1005\", \"status\": \"IN PROGRESS\", \"eta\": \"2024-09-07\"}'"
      ]
     },
     "execution_count": 88,
     "metadata": {},
     "output_type": "execute_result"
    }
   ],
   "source": [
    "function_result = names_to_functions[function_name](**function_params)\n",
    "function_result\n"
   ]
  },
  {
   "cell_type": "code",
   "execution_count": 89,
   "id": "81a14939-b6a9-45ba-92cb-b190969f6889",
   "metadata": {},
   "outputs": [],
   "source": [
    "messages.append(ChatMessage(role=\"tool\", name=function_name, content=function_result, tool_call_id=tool_call.id))"
   ]
  },
  {
   "cell_type": "code",
   "execution_count": 90,
   "id": "fafc8f24-f1a8-4d8a-ad7f-8465da97939f",
   "metadata": {},
   "outputs": [
    {
     "data": {
      "text/plain": [
       "[ChatMessage(role='user', content='What is the status of my transaction buddy?', name=None, tool_calls=None, tool_call_id=None),\n",
       " ChatMessage(role='assistant', content='Sure, please provide me with the transaction id.', name=None, tool_calls=None, tool_call_id=None),\n",
       " ChatMessage(role='user', content='T1005', name=None, tool_calls=None, tool_call_id=None),\n",
       " ChatMessage(role='assistant', content='', name=None, tool_calls=[ToolCall(id='6zFrRIsme', type=<ToolType.function: 'function'>, function=FunctionCall(name='retrieve_payment_status', arguments='{\"transaction_id\": \"T1005\"}'))], tool_call_id=None),\n",
       " ChatMessage(role='tool', content='{\"status\": \"Pending\"}', name='retrieve_payment_status', tool_calls=None, tool_call_id='6zFrRIsme'),\n",
       " ChatMessage(role='assistant', content='The status of your transaction with ID T1005 is currently \"Pending\".', name=None, tool_calls=None, tool_call_id=None),\n",
       " ChatMessage(role='user', content='When!!???? Are you sure?', name=None, tool_calls=None, tool_call_id=None),\n",
       " ChatMessage(role='assistant', content='Are you sure you want to know the date of the transaction?', name=None, tool_calls=None, tool_call_id=None),\n",
       " ChatMessage(role='user', content='Yes', name=None, tool_calls=None, tool_call_id=None),\n",
       " ChatMessage(role='assistant', content='', name=None, tool_calls=[ToolCall(id='ztH3kFT5a', type=<ToolType.function: 'function'>, function=FunctionCall(name='retrieve_payment_date', arguments='{\"transaction_id\": \"T1005\"}'))], tool_call_id=None),\n",
       " ChatMessage(role='tool', content='{\"date\": \"2021-10-08\"}', name='retrieve_payment_date', tool_calls=None, tool_call_id='ztH3kFT5a'),\n",
       " ChatMessage(role='assistant', content='The transaction with ID T1005 was made on October 8, 2021.', name=None, tool_calls=None, tool_call_id=None),\n",
       " ChatMessage(role='user', content='Why is it still pending?', name=None, tool_calls=None, tool_call_id=None),\n",
       " ChatMessage(role='assistant', content='The reason for the delay could be due to network congestion or manual review processes. Would you like me to escalate this issue?', name=None, tool_calls=None, tool_call_id=None),\n",
       " ChatMessage(role='user', content='Yes, Please..', name=None, tool_calls=None, tool_call_id=None),\n",
       " ChatMessage(role='assistant', content='', name=None, tool_calls=[ToolCall(id='gTjZs1daW', type=<ToolType.function: 'function'>, function=FunctionCall(name='escalate', arguments='{\"transaction_id\": \"T1005\"}'))], tool_call_id=None),\n",
       " ChatMessage(role='tool', content='{\"ticket_id\": \"1557462481\", \"transaction_id\": \"T1005\"}', name='escalate', tool_calls=None, tool_call_id='gTjZs1daW'),\n",
       " ChatMessage(role='assistant', content=\"Your issue has been escalated. Your ticket ID is 1557462481, and we'll keep you updated on any progress.\", name=None, tool_calls=None, tool_call_id=None),\n",
       " ChatMessage(role='user', content='Thank you, how long does it take to resolve?', name=None, tool_calls=None, tool_call_id=None),\n",
       " ChatMessage(role='assistant', content='It typically takes 1-2 business days to resolve these issues. Would you like a reminder when the issue is resolved?', name=None, tool_calls=None, tool_call_id=None),\n",
       " ChatMessage(role='user', content='Can you provide the eta for this ticket?', name=None, tool_calls=None, tool_call_id=None),\n",
       " ChatMessage(role='assistant', content='', name=None, tool_calls=[ToolCall(id='eA4fWFwz0', type=<ToolType.function: 'function'>, function=FunctionCall(name='ticket_details', arguments='{\"ticket_id\": \"1557462481\", \"transaction_id\": \"T1005\"}'))], tool_call_id=None),\n",
       " ChatMessage(role='tool', content='{\"ticket_id\": \"1557462481\", \"transaction_id\": \"T1005\", \"status\": \"IN PROGRESS\", \"eta\": \"2024-09-07\"}', name='ticket_details', tool_calls=None, tool_call_id='eA4fWFwz0')]"
      ]
     },
     "execution_count": 90,
     "metadata": {},
     "output_type": "execute_result"
    }
   ],
   "source": [
    "messages"
   ]
  },
  {
   "cell_type": "markdown",
   "id": "2aa2e194-1e97-4446-817d-9b57dcfab371",
   "metadata": {},
   "source": [
    "## Step 4. Model: Generate final answer\n",
    "\n",
    "We can now provide the output from the tools to Mistral models, and in return, the Mistral model can produce a customised final response for the specific user."
   ]
  },
  {
   "cell_type": "code",
   "execution_count": 91,
   "id": "36e1cbb5-96bf-49b6-bada-ff6338d67d86",
   "metadata": {},
   "outputs": [
    {
     "data": {
      "text/plain": [
       "'The estimated resolution time for your ticket #1557462481 is September 7, 2024.'"
      ]
     },
     "execution_count": 91,
     "metadata": {},
     "output_type": "execute_result"
    }
   ],
   "source": [
    "response = client.chat(\n",
    "    model=model,\n",
    "    messages=messages\n",
    ")\n",
    "\n",
    "response.choices[0].message.content"
   ]
  },
  {
   "cell_type": "code",
   "execution_count": 35,
   "id": "4684d033",
   "metadata": {},
   "outputs": [
    {
     "data": {
      "text/plain": [
       "\"The status of transaction T1006 is 'Paid'.\""
      ]
     },
     "execution_count": 35,
     "metadata": {},
     "output_type": "execute_result"
    }
   ],
   "source": [
    "response.choices[0].message.content"
   ]
  },
  {
   "cell_type": "code",
   "execution_count": 84,
   "id": "2b1dae84",
   "metadata": {},
   "outputs": [
    {
     "data": {
      "text/plain": [
       "''"
      ]
     },
     "execution_count": 84,
     "metadata": {},
     "output_type": "execute_result"
    }
   ],
   "source": [
    "messages.append(ChatMessage(role=\"user\", content=\"Can you provide the eta for this ticket?\"))\n",
    "response = client.chat(\n",
    "    model=model,\n",
    "    messages=messages,\n",
    "    tools=tools,\n",
    "    tool_choice=\"auto\"\n",
    ")\n",
    "response.choices[0].message.content"
   ]
  },
  {
   "cell_type": "code",
   "execution_count": 33,
   "id": "a7e3b2e0",
   "metadata": {},
   "outputs": [
    {
     "name": "stdout",
     "output_type": "stream",
     "text": [
      "There could be several reasons why your transaction is still pending. Here are a few possibilities:\n",
      "\n",
      "* The recipient's bank has not yet processed the transaction.\n",
      "* There is a delay in the banking system.\n",
      "* The transaction is waiting for confirmation from the recipient's bank.\n",
      "* The transaction is being reviewed due to suspected fraudulent activity.\n",
      "* There is an issue with the recipient's account or bank.\n",
      "\n",
      "If the transaction has been pending for more than a few business days, I would recommend contacting your bank for more information.\n"
     ]
    }
   ],
   "source": [
    "print(response.choices[0].message.content)"
   ]
  },
  {
   "cell_type": "code",
   "execution_count": 49,
   "id": "e477a7e1",
   "metadata": {},
   "outputs": [
    {
     "data": {
      "text/plain": [
       "{'id': '7e7158462344455d9252603df8530674',\n",
       " 'object': 'chat.completion',\n",
       " 'created': 1725536665,\n",
       " 'model': 'mistral-large',\n",
       " 'choices': [{'index': 0,\n",
       "   'message': {'role': 'assistant',\n",
       "    'content': '',\n",
       "    'name': None,\n",
       "    'tool_calls': [{'id': 'XPcWO1UPu',\n",
       "      'type': <ToolType.function: 'function'>,\n",
       "      'function': {'name': 'retrieve_payment_date',\n",
       "       'arguments': '{\"transaction_id\": \"T1006\"}'}}],\n",
       "    'tool_call_id': None},\n",
       "   'finish_reason': <FinishReason.tool_calls: 'tool_calls'>}],\n",
       " 'usage': {'prompt_tokens': 236, 'total_tokens': 266, 'completion_tokens': 30}}"
      ]
     },
     "execution_count": 49,
     "metadata": {},
     "output_type": "execute_result"
    }
   ],
   "source": [
    "response.model_dump()"
   ]
  }
 ],
 "metadata": {
  "kernelspec": {
   "display_name": "Python 3 (ipykernel)",
   "language": "python",
   "name": "python3"
  },
  "language_info": {
   "codemirror_mode": {
    "name": "ipython",
    "version": 3
   },
   "file_extension": ".py",
   "mimetype": "text/x-python",
   "name": "python",
   "nbconvert_exporter": "python",
   "pygments_lexer": "ipython3",
   "version": "3.11.9"
  }
 },
 "nbformat": 4,
 "nbformat_minor": 5
}
